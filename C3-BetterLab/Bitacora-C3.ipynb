{
 "cells": [
  {
   "cell_type": "code",
   "execution_count": 4,
   "id": "eb24c6f8",
   "metadata": {},
   "outputs": [
    {
     "name": "stdout",
     "output_type": "stream",
     "text": [
      "Bacterias-que-no-estan-en-Onco.txt\n",
      "Bitacora-C3.ipynb\n",
      "VIRUS-que-no-estan-en-Onco.txt\n",
      "data1\n"
     ]
    }
   ],
   "source": [
    "%%bash\n",
    "ls "
   ]
  },
  {
   "cell_type": "code",
   "execution_count": 5,
   "id": "9231c56e",
   "metadata": {},
   "outputs": [],
   "source": [
    "%%bash\n",
    "mkdir backup\n"
   ]
  },
  {
   "cell_type": "code",
   "execution_count": 23,
   "id": "a65c1b3a",
   "metadata": {},
   "outputs": [
    {
     "name": "stdout",
     "output_type": "stream",
     "text": [
      "total 2.7M\n",
      "-rwxrwxrwx 1 abel abel 2.6M Aug 31 07:34 OncoMicrobes.tsv\n",
      "-rwxrwxrwx 1 abel abel  49K Aug 31 07:35 pubmedMentions-bacterias.tsv\n",
      "-rwxrwxrwx 1 abel abel  24K Aug 31 07:42 pubmedMentions-virus.tsv\n",
      "OncoMicrobes.tsv\n",
      "pubmedMentions-bacterias.tsv\n",
      "pubmedMentions-virus.tsv\n"
     ]
    }
   ],
   "source": [
    "%%bash\n",
    "## The first thing I did was to convert te file xlsl to format tsv, because I would have trouble in the process.\n",
    "ls -lh backup/\n",
    "## Choose the second column because I need to know the species repeats in OncoMicrobes\n",
    "cd backup/\n",
    "cat OncoMicrobes.tsv | cut -f2 | sort | uniq > ../analisis/Onco-sort.tsv\n",
    "cat pubmedMentions-bacterias.tsv | cut -f2 | sort | uniq > ../analisis/pubmed-Bac-sort.tsv\n",
    "cat pubmedMentions-virus.tsv | cut -f2 | sort | uniq > ../analisis/pubmed-Vir-sort.tsv\n",
    "ls"
   ]
  },
  {
   "cell_type": "code",
   "execution_count": 24,
   "id": "357d8082",
   "metadata": {},
   "outputs": [],
   "source": [
    "## Later  I open the leaked files  with excel to know which data Pubmed were containing inside of Onco file"
   ]
  },
  {
   "cell_type": "code",
   "execution_count": null,
   "id": "5048d0a2",
   "metadata": {},
   "outputs": [],
   "source": [
    "## Formule in excel\n",
    "## =BUSCARV(Lo que desea buscar; dónde quiere buscarlo; el número de columna en el rango que contiene el valor a devolver; devuelve una Coincidencia exacta o Coincidencia aproximada, indicada como 1/TRUE o 0/FALSE). "
   ]
  }
 ],
 "metadata": {
  "kernelspec": {
   "display_name": "Python 3",
   "language": "python",
   "name": "python3"
  },
  "language_info": {
   "codemirror_mode": {
    "name": "ipython",
    "version": 3
   },
   "file_extension": ".py",
   "mimetype": "text/x-python",
   "name": "python",
   "nbconvert_exporter": "python",
   "pygments_lexer": "ipython3",
   "version": "3.8.10"
  }
 },
 "nbformat": 4,
 "nbformat_minor": 5
}
